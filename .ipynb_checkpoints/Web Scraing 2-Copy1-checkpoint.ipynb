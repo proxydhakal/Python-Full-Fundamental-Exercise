{
 "cells": [
  {
   "cell_type": "code",
   "execution_count": 24,
   "metadata": {},
   "outputs": [],
   "source": [
    "base_url='https://old.reddit.com/top/'\n",
    "import requests\n",
    "from bs4 import BeautifulSoup"
   ]
  },
  {
   "cell_type": "code",
   "execution_count": 25,
   "metadata": {},
   "outputs": [],
   "source": [
    "responce = requests.get(base_url)"
   ]
  },
  {
   "cell_type": "code",
   "execution_count": 26,
   "metadata": {},
   "outputs": [],
   "source": [
    "html = responce.content"
   ]
  },
  {
   "cell_type": "code",
   "execution_count": 32,
   "metadata": {},
   "outputs": [
    {
     "data": {
      "text/plain": [
       "b'\\n<!doctype html>\\n<html>\\n  <head>\\n    <title>Too Many Requests</title>\\n    <style>\\n      body {\\n          font: small verdana, arial, helvetica, sans-serif;\\n          width: 600px;\\n          margin: 0 auto;\\n      }\\n\\n      h1 {\\n          height: 40px;\\n          background: transparent url(//www.redditstatic.com/reddit.com.header.png) no-repeat scroll top right;\\n      }\\n    </style>\\n  </head>\\n  <body>\\n    <h1>whoa there, pardner!</h1>\\n    \\n\\n\\n<p>we\\'re sorry, but you appear to be a bot and we\\'ve seen too many requests\\nfrom you lately. we enforce a hard speed limit on requests that appear to come\\nfrom bots to prevent abuse.</p>\\n\\n<p>if you are not a bot but are spoofing one via your browser\\'s user agent\\nstring: please change your user agent string to avoid seeing this message\\nagain.</p>\\n\\n<p>please wait 6 second(s) and try again.</p>\\n\\n    <p>as a reminder to developers, we recommend that clients make no\\n    more than <a href=\"http://github.com/reddit/reddit/wiki/API\">one\\n    request every two seconds</a> to avoid seeing this message.</p>\\n  </body>\\n</html>\\n'"
      ]
     },
     "execution_count": 32,
     "metadata": {},
     "output_type": "execute_result"
    }
   ],
   "source": [
    "html"
   ]
  },
  {
   "cell_type": "code",
   "execution_count": 27,
   "metadata": {},
   "outputs": [],
   "source": [
    "soup = BeautifulSoup(html,'lxml')"
   ]
  },
  {
   "cell_type": "code",
   "execution_count": 33,
   "metadata": {},
   "outputs": [
    {
     "data": {
      "text/plain": [
       "<!DOCTYPE html>\n",
       "<html>\n",
       "<head>\n",
       "<title>Too Many Requests</title>\n",
       "<style>\n",
       "      body {\n",
       "          font: small verdana, arial, helvetica, sans-serif;\n",
       "          width: 600px;\n",
       "          margin: 0 auto;\n",
       "      }\n",
       "\n",
       "      h1 {\n",
       "          height: 40px;\n",
       "          background: transparent url(//www.redditstatic.com/reddit.com.header.png) no-repeat scroll top right;\n",
       "      }\n",
       "    </style>\n",
       "</head>\n",
       "<body>\n",
       "<h1>whoa there, pardner!</h1>\n",
       "<p>we're sorry, but you appear to be a bot and we've seen too many requests\n",
       "from you lately. we enforce a hard speed limit on requests that appear to come\n",
       "from bots to prevent abuse.</p>\n",
       "<p>if you are not a bot but are spoofing one via your browser's user agent\n",
       "string: please change your user agent string to avoid seeing this message\n",
       "again.</p>\n",
       "<p>please wait 6 second(s) and try again.</p>\n",
       "<p>as a reminder to developers, we recommend that clients make no\n",
       "    more than <a href=\"http://github.com/reddit/reddit/wiki/API\">one\n",
       "    request every two seconds</a> to avoid seeing this message.</p>\n",
       "</body>\n",
       "</html>"
      ]
     },
     "execution_count": 33,
     "metadata": {},
     "output_type": "execute_result"
    }
   ],
   "source": [
    "soup"
   ]
  },
  {
   "cell_type": "code",
   "execution_count": 28,
   "metadata": {},
   "outputs": [
    {
     "data": {
      "text/plain": [
       "0"
      ]
     },
     "execution_count": 28,
     "metadata": {},
     "output_type": "execute_result"
    }
   ],
   "source": [
    "divs =soup.findAll('table')\n",
    "len(divs)"
   ]
  },
  {
   "cell_type": "code",
   "execution_count": 29,
   "metadata": {},
   "outputs": [],
   "source": [
    "title =soup.find('div',attrs={'id':'thing_t3_c88487'})"
   ]
  },
  {
   "cell_type": "code",
   "execution_count": 30,
   "metadata": {},
   "outputs": [],
   "source": [
    "title"
   ]
  },
  {
   "cell_type": "code",
   "execution_count": 31,
   "metadata": {},
   "outputs": [],
   "source": [
    "table =soup.find('ul',attrs={'data-script':'pl_stats'})"
   ]
  },
  {
   "cell_type": "code",
   "execution_count": 23,
   "metadata": {},
   "outputs": [
    {
     "data": {
      "text/plain": [
       "<ul class=\"block-list-4 mobileScrollList\" data-header-id=\"201617PlayerStatsTopPlayers\" data-script=\"pl_stats\" data-widget=\"top-stats-header\"></ul>"
      ]
     },
     "execution_count": 23,
     "metadata": {},
     "output_type": "execute_result"
    }
   ],
   "source": [
    "table"
   ]
  },
  {
   "cell_type": "code",
   "execution_count": 3,
   "metadata": {},
   "outputs": [],
   "source": [
    "from selenium import webdriver\n",
    "\n",
    "MAX_PAGE_NUM = 5\n",
    "MAX_PAGE_DIG = 3\n",
    "driver = webdriver.Firefox(executable_path=r'C:\\Users\\proxy_9k6gwyc\\Downloads\\geckodriver.exe')\n",
    "\n",
    "with open('results.csv', 'w') as f:\n",
    "    f.write(\"Buyer, Price \\n\")\n",
    "\n",
    "for i in range(1, MAX_PAGE_NUM + 1):\n",
    "    page_num = (MAX_PAGE_DIG - len(str(i))) * \"0\" + str(i)\n",
    "    url = \"http://econpy.pythonanywhere.com/ex/\" + page_num + \".html\"\n",
    "\n",
    "    driver.get(url)\n",
    "\n",
    "    buyers = driver.find_elements_by_xpath('//div[@title=\"buyer-name\"]')\n",
    "    prices = driver.find_elements_by_xpath('//span[@class=\"item-price\"]')\n",
    "\n",
    "    num_page_items = len(buyers)\n",
    "    with open('results.csv', 'a') as f:\n",
    "        for i in range(num_page_items):\n",
    "            f.write(buyers[i].text + \",\" + prices[i].text + \"\\n\")\n",
    "\n",
    "driver.close()"
   ]
  },
  {
   "cell_type": "code",
   "execution_count": null,
   "metadata": {},
   "outputs": [],
   "source": []
  }
 ],
 "metadata": {
  "kernelspec": {
   "display_name": "Python 3",
   "language": "python",
   "name": "python3"
  },
  "language_info": {
   "codemirror_mode": {
    "name": "ipython",
    "version": 3
   },
   "file_extension": ".py",
   "mimetype": "text/x-python",
   "name": "python",
   "nbconvert_exporter": "python",
   "pygments_lexer": "ipython3",
   "version": "3.6.5"
  }
 },
 "nbformat": 4,
 "nbformat_minor": 2
}
