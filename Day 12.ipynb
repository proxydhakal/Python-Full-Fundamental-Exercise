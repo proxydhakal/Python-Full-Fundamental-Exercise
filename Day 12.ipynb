{
 "cells": [
  {
   "cell_type": "markdown",
   "metadata": {},
   "source": [
    "# Exception Handling"
   ]
  },
  {
   "cell_type": "code",
   "execution_count": 5,
   "metadata": {},
   "outputs": [
    {
     "name": "stdout",
     "output_type": "stream",
     "text": [
      "division by zero\n",
      "Divisor:0\n",
      "6.0\n",
      "Divisor:1\n",
      "3.0\n",
      "Divisor:2\n",
      "2.0\n",
      "Divisor:3\n",
      "1.5\n",
      "Divisor:4\n"
     ]
    }
   ],
   "source": [
    "a=6\n",
    "for i in range(5):\n",
    "    try:\n",
    "        result =a/i\n",
    "    except ZeroDivisionError as e:\n",
    "        print(e)\n",
    "    else:\n",
    "        print(result)\n",
    "    finally:\n",
    "        print(f'Divisor:{i}')"
   ]
  },
  {
   "cell_type": "code",
   "execution_count": 6,
   "metadata": {},
   "outputs": [
    {
     "name": "stdout",
     "output_type": "stream",
     "text": [
      "key error 0\n",
      "Divisor:0\n",
      "2.0\n",
      "Divisor:1\n",
      "2.0\n",
      "Divisor:2\n",
      "2.0\n",
      "Divisor:3\n",
      "key error 4\n",
      "Divisor:4\n"
     ]
    }
   ],
   "source": [
    "d ={1:2,2:4,3:6}\n",
    "for i in range(5):\n",
    "    try:\n",
    "        result =d[i]/i\n",
    "    except ZeroDivisionError as e:\n",
    "        print(e)\n",
    "    except KeyError as k:\n",
    "        print('key error',k)\n",
    "    else:\n",
    "        print(result)\n",
    "    finally:\n",
    "        print(f'Divisor:{i}')\n"
   ]
  },
  {
   "cell_type": "markdown",
   "metadata": {},
   "source": [
    "# File Handling"
   ]
  },
  {
   "cell_type": "code",
   "execution_count": 7,
   "metadata": {},
   "outputs": [
    {
     "name": "stdout",
     "output_type": "stream",
     "text": [
      "No such file in current dir.\n"
     ]
    }
   ],
   "source": [
    "try:\n",
    "    \n",
    "    rf = open(\"python.txt\", mode='r')\n",
    "except FileNotFoundError as f:\n",
    "    print(\"No such file in current dir.\")\n"
   ]
  },
  {
   "cell_type": "code",
   "execution_count": 8,
   "metadata": {},
   "outputs": [],
   "source": [
    "wf =open(\"python.txt\", mode='w')"
   ]
  },
  {
   "cell_type": "code",
   "execution_count": 9,
   "metadata": {},
   "outputs": [
    {
     "name": "stdout",
     "output_type": "stream",
     "text": [
      " Volume in drive C has no label.\n",
      " Volume Serial Number is 3CF4-EF9D\n",
      "\n",
      " Directory of C:\\Users\\proxy_9k6gwyc\\broadway-shekhar-python\\Python Fundamental\n",
      "\n",
      "06/26/2019  07:22 AM    <DIR>          .\n",
      "06/26/2019  07:22 AM    <DIR>          ..\n",
      "06/26/2019  06:36 AM    <DIR>          .ipynb_checkpoints\n",
      "06/20/2019  07:49 AM            12,368 Day  8.ipynb\n",
      "06/23/2019  07:55 AM             7,232 Day 10.ipynb\n",
      "06/25/2019  07:22 AM            49,457 Day 11.ipynb\n",
      "06/26/2019  07:22 AM             2,636 Day 12.ipynb\n",
      "06/13/2019  11:50 AM             9,280 Day 3 With Python .ipynb\n",
      "06/16/2019  07:42 AM            14,162 Day 4.ipynb\n",
      "06/16/2019  08:04 AM             3,372 Day 5.ipynb\n",
      "06/17/2019  08:04 AM            28,248 Day 6.ipynb\n",
      "06/18/2019  01:14 PM             4,570 Day 7.ipynb\n",
      "06/21/2019  07:55 AM             9,700 Day 9.ipynb\n",
      "06/13/2019  06:51 AM             7,832 Getting Start With Python Day 2.ipynb\n",
      "06/25/2019  07:57 AM             7,209 Practise 100 Question.ipynb\n",
      "06/18/2019  08:07 PM            20,311 Practise 2.ipynb\n",
      "06/17/2019  08:56 PM            17,426 Practise.ipynb\n",
      "06/26/2019  07:22 AM                 0 python.txt\n",
      "              15 File(s)        193,803 bytes\n",
      "               3 Dir(s)  318,503,759,872 bytes free\n"
     ]
    }
   ],
   "source": [
    "ls"
   ]
  },
  {
   "cell_type": "code",
   "execution_count": 10,
   "metadata": {},
   "outputs": [
    {
     "data": {
      "text/plain": [
       "19"
      ]
     },
     "execution_count": 10,
     "metadata": {},
     "output_type": "execute_result"
    }
   ],
   "source": [
    "wf.write(\"This is first Line.\")"
   ]
  },
  {
   "cell_type": "code",
   "execution_count": 16,
   "metadata": {},
   "outputs": [],
   "source": [
    "wf.flush() # To save the file"
   ]
  },
  {
   "cell_type": "code",
   "execution_count": 17,
   "metadata": {},
   "outputs": [
    {
     "data": {
      "text/plain": [
       "20"
      ]
     },
     "execution_count": 17,
     "metadata": {},
     "output_type": "execute_result"
    }
   ],
   "source": [
    "wf.write(\"This is second Line.\")"
   ]
  },
  {
   "cell_type": "code",
   "execution_count": 15,
   "metadata": {},
   "outputs": [],
   "source": [
    "wf.flush()"
   ]
  },
  {
   "cell_type": "code",
   "execution_count": 18,
   "metadata": {},
   "outputs": [],
   "source": [
    "# wf.close to close the file"
   ]
  },
  {
   "cell_type": "code",
   "execution_count": 19,
   "metadata": {},
   "outputs": [],
   "source": [
    "wf.close()"
   ]
  },
  {
   "cell_type": "code",
   "execution_count": 20,
   "metadata": {},
   "outputs": [],
   "source": [
    "lines = [\"This is line one\\n\",\"This is line two\\n\",\"This is third line\\n\"]"
   ]
  },
  {
   "cell_type": "code",
   "execution_count": 21,
   "metadata": {},
   "outputs": [],
   "source": [
    "wf = open(\"python.txt\", mode='w')\n",
    "wf.writelines(lines)\n",
    "wf.flush()\n",
    "wf.close()"
   ]
  },
  {
   "cell_type": "code",
   "execution_count": 23,
   "metadata": {},
   "outputs": [],
   "source": [
    "wf = open(\"python.txt\", mode='a') #to apend text in ext file\n",
    "wf.write(\"This is line four\")\n",
    "wf.flush()\n",
    "wf.close()"
   ]
  },
  {
   "cell_type": "code",
   "execution_count": 24,
   "metadata": {},
   "outputs": [],
   "source": [
    "with open(\"python.txt\", mode='w') as wf:\n",
    "    wf.writelines(lines)\n",
    "    "
   ]
  },
  {
   "cell_type": "code",
   "execution_count": 25,
   "metadata": {},
   "outputs": [
    {
     "data": {
      "text/plain": [
       "'This is line one\\nThis is line two\\nThis is third line\\n'"
      ]
     },
     "execution_count": 25,
     "metadata": {},
     "output_type": "execute_result"
    }
   ],
   "source": [
    "rf =open('python.txt', mode='r')\n",
    "data= rf.read()\n",
    "data"
   ]
  },
  {
   "cell_type": "code",
   "execution_count": 26,
   "metadata": {},
   "outputs": [
    {
     "name": "stdout",
     "output_type": "stream",
     "text": [
      "This is line one\n",
      "This is line two\n",
      "This is third line\n",
      "\n"
     ]
    }
   ],
   "source": [
    "print(data)"
   ]
  },
  {
   "cell_type": "code",
   "execution_count": 31,
   "metadata": {},
   "outputs": [
    {
     "data": {
      "text/plain": [
       "10"
      ]
     },
     "execution_count": 31,
     "metadata": {},
     "output_type": "execute_result"
    }
   ],
   "source": [
    "rf.seek(10) "
   ]
  },
  {
   "cell_type": "code",
   "execution_count": 32,
   "metadata": {},
   "outputs": [
    {
     "data": {
      "text/plain": [
       "10"
      ]
     },
     "execution_count": 32,
     "metadata": {},
     "output_type": "execute_result"
    }
   ],
   "source": [
    "rf.tell()"
   ]
  },
  {
   "cell_type": "code",
   "execution_count": 33,
   "metadata": {},
   "outputs": [
    {
     "data": {
      "text/plain": [
       "'ne one\\nThis is line two\\nThis is third line\\n'"
      ]
     },
     "execution_count": 33,
     "metadata": {},
     "output_type": "execute_result"
    }
   ],
   "source": [
    "rf.read()"
   ]
  },
  {
   "cell_type": "code",
   "execution_count": 34,
   "metadata": {},
   "outputs": [],
   "source": [
    "rf.close()"
   ]
  },
  {
   "cell_type": "code",
   "execution_count": 35,
   "metadata": {},
   "outputs": [
    {
     "data": {
      "text/plain": [
       "'This is line one\\n'"
      ]
     },
     "execution_count": 35,
     "metadata": {},
     "output_type": "execute_result"
    }
   ],
   "source": [
    "rf =open('python.txt', mode='r')\n",
    "rf.readline()\n"
   ]
  },
  {
   "cell_type": "code",
   "execution_count": 36,
   "metadata": {},
   "outputs": [
    {
     "data": {
      "text/plain": [
       "['This is line two\\n', 'This is third line\\n']"
      ]
     },
     "execution_count": 36,
     "metadata": {},
     "output_type": "execute_result"
    }
   ],
   "source": [
    "rf.readlines()"
   ]
  },
  {
   "cell_type": "code",
   "execution_count": null,
   "metadata": {},
   "outputs": [],
   "source": []
  }
 ],
 "metadata": {
  "kernelspec": {
   "display_name": "Python 3",
   "language": "python",
   "name": "python3"
  },
  "language_info": {
   "codemirror_mode": {
    "name": "ipython",
    "version": 3
   },
   "file_extension": ".py",
   "mimetype": "text/x-python",
   "name": "python",
   "nbconvert_exporter": "python",
   "pygments_lexer": "ipython3",
   "version": "3.6.5"
  }
 },
 "nbformat": 4,
 "nbformat_minor": 2
}
