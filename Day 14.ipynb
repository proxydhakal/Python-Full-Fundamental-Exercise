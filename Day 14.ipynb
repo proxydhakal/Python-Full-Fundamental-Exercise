{
 "cells": [
  {
   "cell_type": "markdown",
   "metadata": {},
   "source": [
    "# Web Scraping With Python"
   ]
  },
  {
   "cell_type": "code",
   "execution_count": 1,
   "metadata": {},
   "outputs": [],
   "source": [
    "base_url='https://www.phaster.com/zip_code.html'"
   ]
  },
  {
   "cell_type": "code",
   "execution_count": 6,
   "metadata": {},
   "outputs": [],
   "source": [
    "import requests\n",
    "\n",
    "from bs4 import BeautifulSoup"
   ]
  },
  {
   "cell_type": "code",
   "execution_count": 10,
   "metadata": {},
   "outputs": [
    {
     "data": {
      "text/plain": [
       "200"
      ]
     },
     "execution_count": 10,
     "metadata": {},
     "output_type": "execute_result"
    }
   ],
   "source": [
    "responce = requests.get(base_url)\n",
    "responce.status_code"
   ]
  },
  {
   "cell_type": "code",
   "execution_count": 12,
   "metadata": {},
   "outputs": [],
   "source": [
    "html=responce.content"
   ]
  },
  {
   "cell_type": "code",
   "execution_count": 14,
   "metadata": {},
   "outputs": [],
   "source": [
    "soup =BeautifulSoup(html,'lxml')"
   ]
  },
  {
   "cell_type": "code",
   "execution_count": 15,
   "metadata": {},
   "outputs": [
    {
     "data": {
      "text/plain": [
       "2"
      ]
     },
     "execution_count": 15,
     "metadata": {},
     "output_type": "execute_result"
    }
   ],
   "source": [
    "tables =soup.findAll('table')\n",
    "len(tables)"
   ]
  },
  {
   "cell_type": "code",
   "execution_count": 16,
   "metadata": {},
   "outputs": [],
   "source": [
    "table =soup.find('table',attrs={'cols':'3'})"
   ]
  },
  {
   "cell_type": "code",
   "execution_count": 17,
   "metadata": {},
   "outputs": [
    {
     "name": "stdout",
     "output_type": "stream",
     "text": [
      "<table border=\"\" cols=\"3\" width=\"90%\"><tr><td bgcolor=\"#006666\"><b><font color=\"#FFFFFF\" face=\"Arial,Helvetica\">State</font></b></td><td bgcolor=\"#006666\"><b><font color=\"#FFFFFF\" face=\"Arial,Helvetica\">City</font></b></td><td bgcolor=\"#006666\"><font color=\"#FFFFFF\" face=\"Arial,Helvetica\"><b>ZIP Code(s)</b></font></td></tr><tr><td><font size=\"-1\">Alabama (AL)</font></td><td><font size=\"-1\">Huntsville</font></td><td><font size=\"-1\">35801 thru 35816</font></td></tr><tr><td><font size=\"-1\">Alaska (AK)</font></td><td><font size=\"-1\">Anchorage</font></td><td><font size=\"-1\">99501 thru 99524</font></td></tr><tr><td><font size=\"-1\">Arizona (AZ)</font></td><td><font size=\"-1\">Phoenix</font></td><td><font size=\"-1\">85001 thru 85055</font></td></tr><tr><td><font size=\"-1\">Arkansas (AR)</font></td><td><font size=\"-1\">Little Rock</font></td><td><font size=\"-1\">72201 thru 72217</font></td></tr><tr><td><font size=\"-1\">California (CA)</font></td><td><font size=\"-1\">Sacramento</font><br/> <br/><font size=\"-1\">Los Angeles</font><br/> <br/><font size=\"-1\">Beverly Hills</font></td><td><font size=\"-1\">94203 thru 94209</font><br/> <br/><font size=\"-1\">90001 thru 90089</font><br/> <br/><font size=\"-1\">90209 thru 90213</font></td></tr><tr><td><font size=\"-1\">Colorado (CO)</font></td><td><font size=\"-1\">Denver</font></td><td><font size=\"-1\">80201 thru 80239</font></td></tr><tr><td><font size=\"-1\">Conneticut (CT)</font></td><td><font size=\"-1\">Hartford</font></td><td><font size=\"-1\">06101 thru 06112</font></td></tr><tr><td><font size=\"-1\">Deleware (DE)</font></td><td><font size=\"-1\">Dover</font></td><td><font size=\"-1\">19901 thru 19905</font></td></tr><tr><td><font size=\"-1\">District of Columbia (DC)</font></td><td><font size=\"-1\">Washington</font></td><td><font size=\"-1\">20001 thru 20020</font></td></tr><tr><td><font size=\"-1\">Florida (FL)</font></td><td><font size=\"-1\">Pensacola</font><br/> <br/><font size=\"-1\">Miami</font><br/> <br/><font size=\"-1\">Orlando</font></td><td><font size=\"-1\">32501 thru 32509</font><br/> <br/><font size=\"-1\">33124 thru 33190</font><br/> <br/><font size=\"-1\">32801 thru 32837</font></td></tr><tr><td><font size=\"-1\">Georgia (GA)</font></td><td><font size=\"-1\">Atlanta</font></td><td><font size=\"-1\">30301 thru 30381</font></td></tr><tr><td><font size=\"-1\">Hawaii (HI)</font></td><td><font size=\"-1\">Honolulu</font></td><td><font size=\"-1\">96801 thru 96830</font></td></tr><tr><td><font size=\"-1\">Idaho (ID)</font></td><td><font size=\"-1\">Montpelier</font></td><td><font size=\"-1\">83254</font></td></tr><tr><td><font size=\"-1\">Illinois (IL)</font></td><td><font size=\"-1\">Chicago</font><br/> <br/><font size=\"-1\">Springfield</font></td><td><font size=\"-1\">60601 thru 60641</font><br/> <br/><font size=\"-1\">62701 thru 62709</font></td></tr><tr><td><font size=\"-1\">Indiana (IN)</font></td><td><font size=\"-1\">Indianapolis</font></td><td><font size=\"-1\">46201 thru 46209</font></td></tr><tr><td><font size=\"-1\">Iowa (IA)</font></td><td><font size=\"-1\">Davenport</font><br/> <br/><font size=\"-1\">Des Moines</font></td><td><font size=\"-1\">52801 thru 52809</font><br/> <br/><font size=\"-1\">50301 thru 50323</font></td></tr><tr><td><font size=\"-1\">Kansas (KS)</font></td><td><font size=\"-1\">Wichita</font></td><td><font size=\"-1\">67201 thru 67221</font></td></tr><tr><td><font size=\"-1\">Kentucky (KY)</font></td><td><font size=\"-1\">Hazard</font></td><td><font size=\"-1\">41701- 41702</font></td></tr><tr><td><font size=\"-1\">Lousiana (LA)</font></td><td><font size=\"-1\">New Orleans</font></td><td><font size=\"-1\">70112 thru 70119</font></td></tr><tr><td><font size=\"-1\">Maine (ME)</font></td><td><font size=\"-1\">Freeport</font></td><td><font size=\"-1\">04032 thru 04034</font></td></tr><tr><td><font size=\"-1\">Maryland (MD)</font></td><td><font size=\"-1\">Baltimore</font></td><td><font size=\"-1\">21201 thru 21237</font></td></tr><tr><td><font size=\"-1\">Massachusetts (MA)</font></td><td><font size=\"-1\">Boston</font></td><td><font size=\"-1\">02101 thru 02137</font></td></tr><tr><td><font size=\"-1\">Michigan (MI)</font></td><td><font size=\"-1\">Coldwater</font><br/> <br/><font size=\"-1\">Gaylord</font></td><td><font size=\"-1\">49036</font><br/> <br/><font size=\"-1\">49734 - 49735</font></td></tr><tr><td><font size=\"-1\">Minnesota (MN)</font></td><td><font size=\"-1\">Duluth</font></td><td><font size=\"-1\">55801 thru 55808</font></td></tr><tr><td><font size=\"-1\">Mississippo (MS)</font></td><td><font size=\"-1\">Biloxi</font></td><td><font size=\"-1\">39530 thru 39535</font></td></tr><tr><td><font size=\"-1\">Missouri (MO)</font></td><td><font size=\"-1\">St. Louis</font></td><td><font size=\"-1\">63101 thru 63141</font></td></tr><tr><td><font size=\"-1\">Montana (MT)</font></td><td><font size=\"-1\">Laurel</font></td><td><font size=\"-1\">59044</font></td></tr><tr><td><font size=\"-1\">Nebraska (NE)</font></td><td><font size=\"-1\">Hastings</font></td><td><font size=\"-1\">68901 - 68902</font></td></tr><tr><td><font size=\"-1\">Nevada (NV)</font></td><td><font size=\"-1\">Reno</font></td><td><font size=\"-1\">89501 thru 89513</font></td></tr><tr><td><font size=\"-1\">New Hampshire (NH)</font></td><td><font size=\"-1\">Ashland</font></td><td><font size=\"-1\">03217</font></td></tr><tr><td><font size=\"-1\">New Jersey (NJ)</font></td><td><font size=\"-1\">Livingston</font></td><td><font size=\"-1\">07039</font></td></tr><tr><td><font size=\"-1\">New Mexico (NM)</font></td><td><font size=\"-1\">Santa Fe</font></td><td><font size=\"-1\">87500 thru 87506</font></td></tr><tr><td><font size=\"-1\">New York (NY)</font></td><td><font size=\"-1\">New York</font></td><td><font size=\"-1\">10001 thru 10048</font></td></tr><tr><td><font size=\"-1\">North Carolina (NC)</font></td><td><font size=\"-1\">Oxford</font></td><td><font size=\"-1\">27565</font></td></tr><tr><td><font size=\"-1\">North Dakota (ND)</font></td><td><font size=\"-1\">Walhalla</font></td><td><font size=\"-1\">58282</font></td></tr><tr><td><font size=\"-1\">Ohio (OH)</font></td><td><font size=\"-1\">Cleveland</font></td><td><font size=\"-1\">44101 thru 44179</font></td></tr><tr><td><font size=\"-1\">Oklahoma (OK)</font></td><td><font size=\"-1\">Tulsa</font></td><td><font size=\"-1\">74101 thru 74110</font></td></tr><tr><td><font size=\"-1\">Oregon (OR)</font></td><td><font size=\"-1\">Portland</font></td><td><font size=\"-1\">97201 thru 97225</font></td></tr><tr><td><font size=\"-1\">Pennsylvania (PA)</font></td><td><font size=\"-1\">Pittsburgh</font></td><td><font size=\"-1\">15201 thru 15244</font></td></tr><tr><td><font size=\"-1\">Rhode Island (RI)</font></td><td><font size=\"-1\">Newport</font></td><td><font size=\"-1\">02840 - 02841</font></td></tr><tr><td><font size=\"-1\">South Carolina (SC)</font></td><td><font size=\"-1\">Camden</font></td><td><font size=\"-1\">29020</font></td></tr><tr><td><font size=\"-1\">South Dakota (SD)</font></td><td><font size=\"-1\">Aberdeen</font></td><td><font size=\"-1\">57401 - 57402</font></td></tr><tr><td><font size=\"-1\">Tennessee (TN)</font></td><td><font size=\"-1\">Nashville</font></td><td><font size=\"-1\">37201 thru 37222</font></td></tr><tr><td><font size=\"-1\">Texas (TX)</font></td><td><font size=\"-1\">Austin</font></td><td><font size=\"-1\">78701 thru 78705</font></td></tr><tr><td><font size=\"-1\">Utah (UT)</font></td><td><font size=\"-1\">Logan</font></td><td><font size=\"-1\">84321 thru 84323</font></td></tr><tr><td><font size=\"-1\">Vermont (VT)</font></td><td><font size=\"-1\">Killington</font></td><td><font size=\"-1\">05751</font></td></tr><tr><td><font size=\"-1\">Virginia (VA)</font></td><td><font size=\"-1\">Altavista</font></td><td><font size=\"-1\">24517</font></td></tr><tr><td><font size=\"-1\">Washington (WA)</font></td><td><font size=\"-1\">Bellevue (home of windoze)</font></td><td><font size=\"-1\">98004 thru 98009</font></td></tr><tr><td><font size=\"-1\">West Virginia (WV)</font></td><td><font size=\"-1\">Beaver</font></td><td><font size=\"-1\">25813</font></td></tr><tr><td><font size=\"-1\">Wisconsin (WI)</font></td><td><font size=\"-1\">Milwaukee</font></td><td><font size=\"-1\">53201 thru 53228</font></td></tr><tr><td><font size=\"-1\">Wyoming (WY)</font></td><td><font size=\"-1\">Pinedale</font></td><td><font size=\"-1\">82941</font></td></tr></table>\n"
     ]
    }
   ],
   "source": [
    "print(table)"
   ]
  },
  {
   "cell_type": "code",
   "execution_count": 18,
   "metadata": {},
   "outputs": [],
   "source": [
    "all_rows = table.find_all('tr')"
   ]
  },
  {
   "cell_type": "code",
   "execution_count": 19,
   "metadata": {},
   "outputs": [
    {
     "data": {
      "text/plain": [
       "52"
      ]
     },
     "execution_count": 19,
     "metadata": {},
     "output_type": "execute_result"
    }
   ],
   "source": [
    "len(all_rows)"
   ]
  },
  {
   "cell_type": "code",
   "execution_count": 22,
   "metadata": {},
   "outputs": [],
   "source": [
    "raw_columns, *raw_rows = all_rows"
   ]
  },
  {
   "cell_type": "code",
   "execution_count": 24,
   "metadata": {},
   "outputs": [],
   "source": [
    "columns = [data.text for data in raw_columns.findAll('td')]"
   ]
  },
  {
   "cell_type": "code",
   "execution_count": 25,
   "metadata": {},
   "outputs": [
    {
     "data": {
      "text/plain": [
       "['State', 'City', 'ZIP Code(s)']"
      ]
     },
     "execution_count": 25,
     "metadata": {},
     "output_type": "execute_result"
    }
   ],
   "source": [
    "columns"
   ]
  },
  {
   "cell_type": "code",
   "execution_count": 26,
   "metadata": {},
   "outputs": [],
   "source": [
    "rows =[[data.text for data in row.find_all('td')] for row in raw_rows]"
   ]
  },
  {
   "cell_type": "code",
   "execution_count": 27,
   "metadata": {},
   "outputs": [
    {
     "data": {
      "text/plain": [
       "[['Alabama (AL)', 'Huntsville', '35801 thru 35816'],\n",
       " ['Alaska (AK)', 'Anchorage', '99501 thru 99524'],\n",
       " ['Arizona (AZ)', 'Phoenix', '85001 thru 85055'],\n",
       " ['Arkansas (AR)', 'Little Rock', '72201 thru 72217'],\n",
       " ['California (CA)',\n",
       "  'Sacramento\\xa0Los Angeles\\xa0Beverly Hills',\n",
       "  '94203 thru 94209\\xa090001 thru 90089\\xa090209 thru 90213'],\n",
       " ['Colorado (CO)', 'Denver', '80201 thru 80239'],\n",
       " ['Conneticut (CT)', 'Hartford', '06101 thru 06112'],\n",
       " ['Deleware (DE)', 'Dover', '19901 thru 19905'],\n",
       " ['District of Columbia (DC)', 'Washington', '20001 thru 20020'],\n",
       " ['Florida (FL)',\n",
       "  'Pensacola\\xa0Miami\\xa0Orlando',\n",
       "  '32501 thru 32509\\xa033124 thru 33190\\xa032801 thru 32837'],\n",
       " ['Georgia (GA)', 'Atlanta', '30301 thru 30381'],\n",
       " ['Hawaii (HI)', 'Honolulu', '96801 thru 96830'],\n",
       " ['Idaho (ID)', 'Montpelier', '83254'],\n",
       " ['Illinois (IL)',\n",
       "  'Chicago\\xa0Springfield',\n",
       "  '60601 thru 60641\\xa062701 thru 62709'],\n",
       " ['Indiana (IN)', 'Indianapolis', '46201 thru 46209'],\n",
       " ['Iowa (IA)',\n",
       "  'Davenport\\xa0Des Moines',\n",
       "  '52801 thru 52809\\xa050301 thru 50323'],\n",
       " ['Kansas (KS)', 'Wichita', '67201 thru 67221'],\n",
       " ['Kentucky (KY)', 'Hazard', '41701- 41702'],\n",
       " ['Lousiana (LA)', 'New Orleans', '70112 thru 70119'],\n",
       " ['Maine (ME)', 'Freeport', '04032 thru 04034'],\n",
       " ['Maryland (MD)', 'Baltimore', '21201 thru 21237'],\n",
       " ['Massachusetts (MA)', 'Boston', '02101 thru 02137'],\n",
       " ['Michigan (MI)', 'Coldwater\\xa0Gaylord', '49036\\xa049734 - 49735'],\n",
       " ['Minnesota (MN)', 'Duluth', '55801 thru 55808'],\n",
       " ['Mississippo (MS)', 'Biloxi', '39530 thru 39535'],\n",
       " ['Missouri (MO)', 'St. Louis', '63101 thru 63141'],\n",
       " ['Montana (MT)', 'Laurel', '59044'],\n",
       " ['Nebraska (NE)', 'Hastings', '68901 - 68902'],\n",
       " ['Nevada (NV)', 'Reno', '89501 thru 89513'],\n",
       " ['New Hampshire (NH)', 'Ashland', '03217'],\n",
       " ['New Jersey (NJ)', 'Livingston', '07039'],\n",
       " ['New Mexico (NM)', 'Santa Fe', '87500 thru 87506'],\n",
       " ['New York (NY)', 'New York', '10001 thru 10048'],\n",
       " ['North Carolina (NC)', 'Oxford', '27565'],\n",
       " ['North Dakota (ND)', 'Walhalla', '58282'],\n",
       " ['Ohio (OH)', 'Cleveland', '44101 thru 44179'],\n",
       " ['Oklahoma (OK)', 'Tulsa', '74101 thru 74110'],\n",
       " ['Oregon (OR)', 'Portland', '97201 thru 97225'],\n",
       " ['Pennsylvania (PA)', 'Pittsburgh', '15201 thru 15244'],\n",
       " ['Rhode Island (RI)', 'Newport', '02840 - 02841'],\n",
       " ['South Carolina (SC)', 'Camden', '29020'],\n",
       " ['South Dakota (SD)', 'Aberdeen', '57401 - 57402'],\n",
       " ['Tennessee (TN)', 'Nashville', '37201 thru 37222'],\n",
       " ['Texas (TX)', 'Austin', '78701 thru 78705'],\n",
       " ['Utah (UT)', 'Logan', '84321 thru 84323'],\n",
       " ['Vermont (VT)', 'Killington', '05751'],\n",
       " ['Virginia (VA)', 'Altavista', '24517'],\n",
       " ['Washington (WA)', 'Bellevue (home of windoze)', '98004 thru 98009'],\n",
       " ['West Virginia (WV)', 'Beaver', '25813'],\n",
       " ['Wisconsin (WI)', 'Milwaukee', '53201 thru 53228'],\n",
       " ['Wyoming (WY)', 'Pinedale', '82941']]"
      ]
     },
     "execution_count": 27,
     "metadata": {},
     "output_type": "execute_result"
    }
   ],
   "source": [
    "rows"
   ]
  },
  {
   "cell_type": "code",
   "execution_count": 30,
   "metadata": {},
   "outputs": [],
   "source": [
    "datas = [dict(zip(columns,row)) for row in rows]"
   ]
  },
  {
   "cell_type": "code",
   "execution_count": 32,
   "metadata": {},
   "outputs": [],
   "source": [
    "with open('datas.csv','w',newline='') as wf:\n",
    "    writer = csv.DictWriter(wf, fieldnames=columns)\n",
    "    writer.writeheader()\n",
    "    writer.writerows(datas)"
   ]
  },
  {
   "cell_type": "code",
   "execution_count": 33,
   "metadata": {},
   "outputs": [],
   "source": [
    "less datas.csv"
   ]
  },
  {
   "cell_type": "code",
   "execution_count": null,
   "metadata": {},
   "outputs": [],
   "source": []
  }
 ],
 "metadata": {
  "kernelspec": {
   "display_name": "Python 3",
   "language": "python",
   "name": "python3"
  },
  "language_info": {
   "codemirror_mode": {
    "name": "ipython",
    "version": 3
   },
   "file_extension": ".py",
   "mimetype": "text/x-python",
   "name": "python",
   "nbconvert_exporter": "python",
   "pygments_lexer": "ipython3",
   "version": "3.6.5"
  }
 },
 "nbformat": 4,
 "nbformat_minor": 2
}
