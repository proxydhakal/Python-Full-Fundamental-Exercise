{
 "cells": [
  {
   "cell_type": "markdown",
   "metadata": {},
   "source": [
    "# Decorator and Recursive Function"
   ]
  },
  {
   "cell_type": "code",
   "execution_count": 3,
   "metadata": {},
   "outputs": [
    {
     "name": "stdout",
     "output_type": "stream",
     "text": [
      "inner: nonlocal\n",
      "outer: nonlocal\n"
     ]
    }
   ],
   "source": [
    "def outer():\n",
    "    x = \"local\"\n",
    "    \n",
    "    def inner():\n",
    "        nonlocal x\n",
    "        x = \"nonlocal\"\n",
    "        print(\"inner:\", x)\n",
    "    \n",
    "    inner()\n",
    "    print(\"outer:\", x)\n",
    "\n",
    "outer()"
   ]
  },
  {
   "cell_type": "code",
   "execution_count": 4,
   "metadata": {},
   "outputs": [
    {
     "data": {
      "text/plain": [
       "120"
      ]
     },
     "execution_count": 4,
     "metadata": {},
     "output_type": "execute_result"
    }
   ],
   "source": [
    "def fact(x):\n",
    "    if x<0:\n",
    "        raise ValueError(\"NUmber less than Zero\")\n",
    "    result =1\n",
    "    if x<2:\n",
    "        return result\n",
    "    for i in range (x,1,-1):\n",
    "        result = result *i\n",
    "    return result\n",
    "fact(5)"
   ]
  },
  {
   "cell_type": "code",
   "execution_count": 7,
   "metadata": {},
   "outputs": [],
   "source": [
    "def fact(n):\n",
    "    if n <0:\n",
    "        raise ValueError(\"NUmber cannot be Negative.\")\n",
    "    if n <2:\n",
    "        return 1\n",
    "    return n * fact(n-1)"
   ]
  },
  {
   "cell_type": "markdown",
   "metadata": {},
   "source": [
    "Decorator"
   ]
  },
  {
   "cell_type": "code",
   "execution_count": 9,
   "metadata": {},
   "outputs": [
    {
     "name": "stdout",
     "output_type": "stream",
     "text": [
      "Welcome Shekhar!\n",
      "I am Greet.\n"
     ]
    }
   ],
   "source": [
    "def hi(f):\n",
    "    def welcome(name=\"Shekhar\"):\n",
    "        print(f\"Welcome {name}!\")\n",
    "        f()\n",
    "    return welcome\n",
    "\n",
    "def greet():\n",
    "    print(\"I am Greet.\")\n",
    "greet=hi(greet)\n",
    "greet()\n"
   ]
  },
  {
   "cell_type": "code",
   "execution_count": 14,
   "metadata": {},
   "outputs": [
    {
     "name": "stdout",
     "output_type": "stream",
     "text": [
      "Welcome Shekhar!\n",
      "I am Greet.\n"
     ]
    }
   ],
   "source": [
    "def hi(f):\n",
    "    def welcome(name=\"Shekhar\"):\n",
    "        print(f\"Welcome {name}!\")\n",
    "        f()\n",
    "    return welcome\n",
    "@hi\n",
    "def greet():\n",
    "    print(\"I am Greet.\")\n",
    "greet()"
   ]
  },
  {
   "cell_type": "code",
   "execution_count": 17,
   "metadata": {},
   "outputs": [],
   "source": [
    "is_login =True"
   ]
  },
  {
   "cell_type": "code",
   "execution_count": 18,
   "metadata": {},
   "outputs": [
    {
     "name": "stdout",
     "output_type": "stream",
     "text": [
      "Purchase Successfully.\n"
     ]
    }
   ],
   "source": [
    "def login(f):\n",
    "    def inner():\n",
    "        if is_login:\n",
    "            f()\n",
    "        else:\n",
    "            return \"you are not Login\"\n",
    "    return inner\n",
    "@login\n",
    "def purchase():\n",
    "    print(\"Purchase Successfully.\")\n",
    "purchase()"
   ]
  },
  {
   "cell_type": "code",
   "execution_count": 19,
   "metadata": {},
   "outputs": [
    {
     "data": {
      "text/plain": [
       "'you are not Login'"
      ]
     },
     "execution_count": 19,
     "metadata": {},
     "output_type": "execute_result"
    }
   ],
   "source": [
    "is_login=False\n",
    "purchase()"
   ]
  },
  {
   "cell_type": "code",
   "execution_count": null,
   "metadata": {},
   "outputs": [],
   "source": []
  }
 ],
 "metadata": {
  "kernelspec": {
   "display_name": "Python 3",
   "language": "python",
   "name": "python3"
  },
  "language_info": {
   "codemirror_mode": {
    "name": "ipython",
    "version": 3
   },
   "file_extension": ".py",
   "mimetype": "text/x-python",
   "name": "python",
   "nbconvert_exporter": "python",
   "pygments_lexer": "ipython3",
   "version": "3.6.5"
  }
 },
 "nbformat": 4,
 "nbformat_minor": 2
}
