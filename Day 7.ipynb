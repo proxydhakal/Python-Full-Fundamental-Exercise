{
 "cells": [
  {
   "cell_type": "code",
   "execution_count": 1,
   "metadata": {},
   "outputs": [],
   "source": [
    "import os"
   ]
  },
  {
   "cell_type": "code",
   "execution_count": 2,
   "metadata": {},
   "outputs": [
    {
     "data": {
      "text/plain": [
       "'C:\\\\Users\\\\proxy_9k6gwyc\\\\broadway-shekhar-python\\\\Python Fundamental'"
      ]
     },
     "execution_count": 2,
     "metadata": {},
     "output_type": "execute_result"
    }
   ],
   "source": [
    "os.getcwd() #get current directory"
   ]
  },
  {
   "cell_type": "code",
   "execution_count": 3,
   "metadata": {},
   "outputs": [],
   "source": [
    "source_location = \"C:/Users/proxy_9k6gwyc/Desktop/images\""
   ]
  },
  {
   "cell_type": "code",
   "execution_count": 4,
   "metadata": {},
   "outputs": [],
   "source": [
    "os.chdir(source_location)"
   ]
  },
  {
   "cell_type": "code",
   "execution_count": 5,
   "metadata": {},
   "outputs": [
    {
     "data": {
      "text/plain": [
       "'C:\\\\Users\\\\proxy_9k6gwyc\\\\Desktop\\\\images'"
      ]
     },
     "execution_count": 5,
     "metadata": {},
     "output_type": "execute_result"
    }
   ],
   "source": [
    "os.getcwd()"
   ]
  },
  {
   "cell_type": "code",
   "execution_count": 6,
   "metadata": {},
   "outputs": [
    {
     "data": {
      "text/plain": [
       "['Hiking_2075_12_32-0.pdf',\n",
       " 'Hiking_2075_12_32-4.pdf',\n",
       " 'Hiking_2075_12_33-10.mp3',\n",
       " 'Hiking_2075_12_33-2.mp3',\n",
       " 'Hiking_2075_12_33-9.mp3',\n",
       " 'Hiking_2075_12_34-2.jpg',\n",
       " 'Hiking_2075_12_34-5.jpg',\n",
       " 'Hiking_2075_12_34-6.jpg',\n",
       " 'Hiking_2075_12_34-7.jpg',\n",
       " 'Hiking_2075_12_34-8.jpg',\n",
       " 'Hiking_2075_12_34-9.jpg']"
      ]
     },
     "execution_count": 6,
     "metadata": {},
     "output_type": "execute_result"
    }
   ],
   "source": [
    "os.listdir() #show all the available files"
   ]
  },
  {
   "cell_type": "code",
   "execution_count": 9,
   "metadata": {},
   "outputs": [],
   "source": [
    "for index,files in enumerate(os.listdir()):\n",
    "    ext = files.split('.')[-1]\n",
    "    valid_ext = ['jpg', 'png','gif','jpeg']\n",
    "    if ext in valid_ext:\n",
    "        os.rename(files, f\"Hiking_2075_12_35-{index}.{ext}\")\n",
    "        "
   ]
  },
  {
   "cell_type": "code",
   "execution_count": 10,
   "metadata": {},
   "outputs": [
    {
     "data": {
      "text/plain": [
       "['Hiking_2075_12_32-0.pdf',\n",
       " 'Hiking_2075_12_32-4.pdf',\n",
       " 'Hiking_2075_12_33-10.mp3',\n",
       " 'Hiking_2075_12_33-2.mp3',\n",
       " 'Hiking_2075_12_33-9.mp3',\n",
       " 'Hiking_2075_12_35-10.jpg',\n",
       " 'Hiking_2075_12_35-5.jpg',\n",
       " 'Hiking_2075_12_35-6.jpg',\n",
       " 'Hiking_2075_12_35-7.jpg',\n",
       " 'Hiking_2075_12_35-8.jpg',\n",
       " 'Hiking_2075_12_35-9.jpg']"
      ]
     },
     "execution_count": 10,
     "metadata": {},
     "output_type": "execute_result"
    }
   ],
   "source": [
    "os.listdir()"
   ]
  },
  {
   "cell_type": "code",
   "execution_count": 11,
   "metadata": {},
   "outputs": [],
   "source": [
    "for index,files in enumerate(os.listdir()):\n",
    "    ext = files.split('.')[-1]\n",
    "    valid_img = ['jpg', 'png','gif','jpeg']\n",
    "    valid_mp3 = ['mp3']\n",
    "    valid_pdf = ['pdf']\n",
    "    if ext in valid_img:\n",
    "        folder =\"images\"\n",
    "    if ext in valid_mp3:\n",
    "        folder =\"Mp3\"\n",
    "    if ext in valid_pdf:\n",
    "        folder =\"document\"\n",
    "    os.renames(files, f\"{folder}/{files}\")"
   ]
  },
  {
   "cell_type": "code",
   "execution_count": 12,
   "metadata": {
    "scrolled": true
   },
   "outputs": [
    {
     "data": {
      "text/plain": [
       "['document', 'images', 'Mp3']"
      ]
     },
     "execution_count": 12,
     "metadata": {},
     "output_type": "execute_result"
    }
   ],
   "source": [
    "os.listdir()"
   ]
  },
  {
   "cell_type": "code",
   "execution_count": null,
   "metadata": {},
   "outputs": [],
   "source": []
  }
 ],
 "metadata": {
  "kernelspec": {
   "display_name": "Python 3",
   "language": "python",
   "name": "python3"
  },
  "language_info": {
   "codemirror_mode": {
    "name": "ipython",
    "version": 3
   },
   "file_extension": ".py",
   "mimetype": "text/x-python",
   "name": "python",
   "nbconvert_exporter": "python",
   "pygments_lexer": "ipython3",
   "version": "3.6.5"
  }
 },
 "nbformat": 4,
 "nbformat_minor": 2
}
