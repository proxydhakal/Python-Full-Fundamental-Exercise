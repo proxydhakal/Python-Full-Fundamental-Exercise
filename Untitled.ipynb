{
 "cells": [
  {
   "cell_type": "code",
   "execution_count": 15,
   "metadata": {},
   "outputs": [
    {
     "name": "stdout",
     "output_type": "stream",
     "text": [
      "Enter a word to translate to Pig Latin: The Brown Fox\n"
     ]
    }
   ],
   "source": [
    "\n",
    "ay = 'ay'\n",
    "way = 'way'\n",
    "consonant = ('B','C','D','F','G','H','J','K','L','M','N','P','Q','R','S','V','W','X','Y','Z')\n",
    "vowel = ('A','E','I','O','U')\n",
    "user_word = input('Enter a word to translate to Pig Latin: ')\n",
    "# getting first letter and making sure its a string and setting it to uppercase\n",
    "first_letter = user_word[0]\n",
    "first_letter = str(first_letter)\n",
    "first_letter=first_letter.upper()\n",
    "if first_letter in consonant:\n",
    "    print(first_letter,'is a consonant')\n",
    "    length_of_word = len(user_word)\n",
    "    remove_first_letter = user_word[1:length_of_word]\n",
    "    pig_latin=remove_first_letter+first_letter+ay\n",
    "    print('The word in Pig Latin is:',pig_latin)\n",
    "elif first_letter in vowel:\n",
    "    print(first_letter,'is a vowel')\n",
    "    pig_latin=user_word+way"
   ]
  },
  {
   "cell_type": "code",
   "execution_count": 17,
   "metadata": {},
   "outputs": [],
   "source": [
    "VOWELS = ('a', 'e', 'i', 'o', 'u')\n",
    "def convert_word(word):\n",
    "    first_letter = word[0]\n",
    "    if first_letter in VOWELS:  # if word starts with a vowel...\n",
    "        return word + \"hay\"     # then keep it as it is and add hay to the end\n",
    "    else:\n",
    "        return word[1:] + word[0] + \"ay\""
   ]
  },
  {
   "cell_type": "code",
   "execution_count": 18,
   "metadata": {},
   "outputs": [],
   "source": [
    "def convert_sentence(sentence):\n",
    "    list_of_words = sentence.split(' ')\n",
    "    new_sentence = \"\"   # we'll keep concatenating words to this...\n",
    "    for word in list_of_words:\n",
    "        new_sentence = new_sentence + convert_word(word)    # ...like this\n",
    "        new_sentence = new_sentence + \" \"   # but don't forget the space!\n",
    "    return new_sentence"
   ]
  },
  {
   "cell_type": "code",
   "execution_count": 19,
   "metadata": {},
   "outputs": [],
   "source": [
    "p1=convert_sentence('The Brown Fox')"
   ]
  },
  {
   "cell_type": "code",
   "execution_count": 20,
   "metadata": {},
   "outputs": [
    {
     "data": {
      "text/plain": [
       "'heTay rownBay oxFay '"
      ]
     },
     "execution_count": 20,
     "metadata": {},
     "output_type": "execute_result"
    }
   ],
   "source": [
    "p1"
   ]
  },
  {
   "cell_type": "code",
   "execution_count": 21,
   "metadata": {},
   "outputs": [
    {
     "name": "stdout",
     "output_type": "stream",
     "text": [
      "[4, 5, 6, 1, 2, 3]\n"
     ]
    }
   ],
   "source": [
    "# Python program to right rotate a list by n \n",
    "\n",
    "# Returns the rotated list \n",
    "def rightRotate(lists, num): \n",
    "\toutput_list = [] \n",
    "\t\n",
    "\t# Will add values from n to the new list \n",
    "\tfor item in range(len(lists) - num, len(lists)): \n",
    "\t\toutput_list.append(lists[item]) \n",
    "\t\n",
    "\t# Will add the values before \n",
    "\t# n to the end of new list\t \n",
    "\tfor item in range(0, len(lists) - num): \n",
    "\t\toutput_list.append(lists[item]) \n",
    "\t\t\n",
    "\treturn output_list \n",
    "\n",
    "# Driver Code \n",
    "rotate_num = 3\n",
    "list_1 = [1, 2, 3, 4, 5, 6] \n",
    "\n",
    "print(rightRotate(list_1, rotate_num)) \n"
   ]
  },
  {
   "cell_type": "code",
   "execution_count": null,
   "metadata": {},
   "outputs": [],
   "source": []
  }
 ],
 "metadata": {
  "kernelspec": {
   "display_name": "Python 3",
   "language": "python",
   "name": "python3"
  },
  "language_info": {
   "codemirror_mode": {
    "name": "ipython",
    "version": 3
   },
   "file_extension": ".py",
   "mimetype": "text/x-python",
   "name": "python",
   "nbconvert_exporter": "python",
   "pygments_lexer": "ipython3",
   "version": "3.6.5"
  }
 },
 "nbformat": 4,
 "nbformat_minor": 2
}
